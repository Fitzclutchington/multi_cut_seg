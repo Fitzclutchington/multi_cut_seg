{
 "cells": [
  {
   "cell_type": "code",
   "execution_count": 1,
   "metadata": {
    "collapsed": true
   },
   "outputs": [],
   "source": [
    "import numpy as np\n",
    "from scipy.misc import imread, imsave, imshow\n",
    "from pymaxflow import PyGraph\n",
    "import sys\n",
    "import time\n",
    "from sklearn.linear_model import LogisticRegression\n",
    "from itertools import combinations\n",
    "import math\n",
    "from IPython.display import Image, display\n",
    "\n",
    "np.set_printoptions(threshold=np.nan,suppress=True, precision=10)"
   ]
  },
  {
   "cell_type": "code",
   "execution_count": 12,
   "metadata": {
    "collapsed": true
   },
   "outputs": [],
   "source": [
    "def neighbor_cost_boykov(p1, p2, alpha):\n",
    "    pdiff = np.subtract(p1,p2)\n",
    "    e_term = np.negative((np.multiply(pdiff,pdiff)))/(2 * alpha * alpha)\n",
    "    cost = np.exp(e_term)\n",
    "    return cost\n",
    "\n",
    "def t_link_cost(std, mean, pixel):\n",
    "    sqrt2xmean = math.sqrt(mean*2)\n",
    "    d = pixel - mean\n",
    "    e_term = np.negative(np.multiply(d,d))/(2 * std * std)\n",
    "    e = np.exp(e_term)\n",
    "    g = e / (std * sqrt2xmean)\n",
    "    return -np.log(g)[0]"
   ]
  },
  {
   "cell_type": "code",
   "execution_count": 13,
   "metadata": {
    "collapsed": false
   },
   "outputs": [],
   "source": [
    "num_objs = 2\n",
    "\n",
    "actual_img = imread('test.jpg', True)\n",
    "brush_img = imread('brush.jpg')\n",
    "\n",
    "\n",
    "im_shape = actual_img.shape\n",
    "width = im_shape[0]\n",
    "height = im_shape[1]\n",
    "alpha = 100\n",
    "\n",
    "\n",
    "actual_img = actual_img.reshape((width*height,1))\n",
    "brush_img = brush_img.reshape((width*height,3))\n",
    "\n",
    "labels = np.random.randint(0,num_objs,(width*height))\n",
    "\n",
    "regional_weights = np.zeros((width*height,num_objs))\n",
    "indices = np.arange(actual_img.size).reshape(im_shape).astype(np.int32)"
   ]
  },
  {
   "cell_type": "code",
   "execution_count": 19,
   "metadata": {
    "collapsed": false
   },
   "outputs": [],
   "source": [
    "graph_size = width*height\n",
    "\n",
    "obj0samples = []\n",
    "obj1samples = []\n",
    "\n",
    "\n",
    "#masks for samples and intial labeling\n",
    "red_band = brush_img[:,0]\n",
    "\n",
    "blue_band = brush_img[:,2]\n",
    "\n",
    "red_mask = np.logical_and(red_band > 200, blue_band == 0)\n",
    "blue_mask = np.logical_and(blue_band > 200,red_band == 0)\n",
    "\n",
    "\n",
    "labels[red_mask] = 0\n",
    "labels[blue_mask] = 1\n",
    "\n",
    "\n",
    "\n",
    "obj0samples = actual_img[red_mask]\n",
    "obj1samples = actual_img[blue_mask]\n"
   ]
  },
  {
   "cell_type": "code",
   "execution_count": 17,
   "metadata": {
    "collapsed": false
   },
   "outputs": [
    {
     "name": "stdout",
     "output_type": "stream",
     "text": [
      "[255.0, 0.0]\n",
      "[0.0, 0.0]\n"
     ]
    },
    {
     "name": "stderr",
     "output_type": "stream",
     "text": [
      "/usr/local/lib/python2.7/dist-packages/IPython/kernel/__main__.py:10: RuntimeWarning: divide by zero encountered in divide\n",
      "/usr/local/lib/python2.7/dist-packages/IPython/kernel/__main__.py:10: RuntimeWarning: invalid value encountered in divide\n",
      "/usr/local/lib/python2.7/dist-packages/IPython/kernel/__main__.py:12: RuntimeWarning: invalid value encountered in divide\n"
     ]
    }
   ],
   "source": [
    "samples = [np.array(obj0samples), np.array(obj1samples)]\n",
    "mean = []\n",
    "std = []\n",
    "\n",
    "for sample in samples:\n",
    "    mean.append(sample.mean())\n",
    "    std.append(sample.std())\n",
    "\n",
    "print mean\n",
    "print std\n",
    "\n",
    "foreground = actual_img > 100\n",
    "background = actual_img <100\n",
    "regional_weights[:,0][foreground] = 20 \n",
    "regional_weights[:,0][background] = 1 \n",
    "regional_weights[:,1][foreground] = 1\n",
    "regional_weights[:,1][background] = 20\n"
   ]
  },
  {
   "cell_type": "code",
   "execution_count": null,
   "metadata": {
    "collapsed": true
   },
   "outputs": [],
   "source": []
  }
 ],
 "metadata": {
  "kernelspec": {
   "display_name": "Python 2",
   "language": "python",
   "name": "python2"
  },
  "language_info": {
   "codemirror_mode": {
    "name": "ipython",
    "version": 2
   },
   "file_extension": ".py",
   "mimetype": "text/x-python",
   "name": "python",
   "nbconvert_exporter": "python",
   "pygments_lexer": "ipython2",
   "version": "2.7.6"
  }
 },
 "nbformat": 4,
 "nbformat_minor": 0
}
